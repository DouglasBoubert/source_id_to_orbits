{
 "cells": [
  {
   "cell_type": "code",
   "execution_count": 3,
   "metadata": {},
   "outputs": [],
   "source": [
    "import matplotlib.pyplot as plt\n",
    "import numpy as np\n",
    "from scipy import special, integrate, stats, interpolate, spatial, optimize, signal\n",
    "import pickle\n",
    "import pandas as pd\n",
    "\n",
    "import tqdm\n",
    "import matplotlib as mpl\n",
    "%config InlineBackend.figure_format = 'retina'\n",
    "mpl.rcParams['figure.dpi']= 150\n",
    "from astroquery.vizier import Vizier\n",
    "import astropy.units as u\n",
    "\n",
    "from hashlib import md5\n",
    "\n",
    "def StanModel_cache(model_code, model_name=None, **kwargs):\n",
    "    \"\"\"Use just as you would `stan`\"\"\"\n",
    "    code_hash = md5(model_code.encode('ascii')).hexdigest()\n",
    "    if model_name is None:\n",
    "        cache_fn = 'cached-model-{}.pkl'.format(code_hash)\n",
    "    else:\n",
    "        cache_fn = 'cached-{}-{}.pkl'.format(model_name, code_hash)\n",
    "    try:\n",
    "        sm = pickle.load(open(cache_fn, 'rb'))\n",
    "    except:\n",
    "        sm = pystan.StanModel(model_code=model_code)\n",
    "        with open(cache_fn, 'wb') as f:\n",
    "            pickle.dump(sm, f)\n",
    "    else:\n",
    "        print(\"Using cached StanModel\")\n",
    "    return sm\n",
    "\n",
    "from matplotlib.patches import Ellipse\n",
    "from matplotlib.lines import Line2D"
   ]
  },
  {
   "cell_type": "markdown",
   "metadata": {},
   "source": [
    "### Set constants"
   ]
  },
  {
   "cell_type": "code",
   "execution_count": 2,
   "metadata": {},
   "outputs": [],
   "source": [
    "gaia_mode = 'Gaia EDR3' # What do you want to query?\n",
    "n_orbits = 100 # How many orbits do you want to integrate?\n",
    "prior_lengthscale = 1.4 # What is the lengthscale of your distance prior? (kpc)\n",
    "radial_velocity_prior = 0.0 # What is the mean of your radial velocity prior? (km/s)\n",
    "radial_velocity_error_prior = 250.0 # What is the spread of your radial velocity prior? (km/s)\n",
    "\n",
    "if gaia_mode == 'Gaia DR2':\n",
    "    archive_key = 'gaiadr2'\n",
    "    gaia_keys = ['ra','ra_error','dec','dec_error','parallax','parallax_error','pmra','pmra_error','pmdec','pmdec_error','ra_dec_corr','ra_parallax_corr','ra_pmra_corr','ra_pmdec_corr','dec_parallax_corr','dec_pmra_corr','dec_pmdec_corr','parallax_pmra_corr','parallax_pmdec_corr','pmra_pmdec_corr']\n",
    "elif gaia_mode == 'Gaia EDR3':\n",
    "    archive_key = 'gaiaedr3'\n",
    "    gaia_keys = ['ra','ra_error','dec','dec_error','parallax','parallax_error','pmra','pmra_error','pmdec','pmdec_error','ra_dec_corr','ra_parallax_corr','ra_pmra_corr','ra_pmdec_corr','dec_parallax_corr','dec_pmra_corr','dec_pmdec_corr','parallax_pmra_corr','parallax_pmdec_corr','pmra_pmdec_corr','phot_g_mean_mag', 'nu_eff_used_in_astrometry', 'pseudocolour', 'ecl_lat', 'astrometric_params_solved','ruwe']"
   ]
  },
  {
   "cell_type": "markdown",
   "metadata": {},
   "source": [
    "### Load data from file"
   ]
  },
  {
   "cell_type": "code",
   "execution_count": 4,
   "metadata": {},
   "outputs": [],
   "source": [
    "data = pd.read_csv('./candidates.dat')\n",
    "box = {ID:{'gaia_id':str(ID),'alias':data['ALIAS'][i],'radial_velocity':data['VRAD'][i],'radial_velocity_error':data['VRAD_ERR'][i]} for i,ID in enumerate(data['ID'])}\n",
    "del data"
   ]
  },
  {
   "cell_type": "code",
   "execution_count": 5,
   "metadata": {},
   "outputs": [
    {
     "name": "stderr",
     "output_type": "stream",
     "text": [
      "/Users/douglasboubert/anaconda3/envs/gaiaedr3/lib/python3.7/site-packages/ipykernel_launcher.py:1: TqdmDeprecationWarning: This function will be removed in tqdm==5.0.0\n",
      "Please use `tqdm.notebook.tqdm` instead of `tqdm.tqdm_notebook`\n",
      "  \"\"\"Entry point for launching an IPython kernel.\n"
     ]
    },
    {
     "data": {
      "application/vnd.jupyter.widget-view+json": {
       "model_id": "624d0defaea84f658cb9f0d76d3f60a3",
       "version_major": 2,
       "version_minor": 0
      },
      "text/plain": [
       "HBox(children=(HTML(value=''), FloatProgress(value=0.0, max=4.0), HTML(value='')))"
      ]
     },
     "metadata": {},
     "output_type": "display_data"
    },
    {
     "name": "stdout",
     "output_type": "stream",
     "text": [
      "S5-HVS1\n",
      "D6-1\n",
      "D6-2\n",
      "D6-3\n",
      "\n"
     ]
    }
   ],
   "source": [
    "for star in tqdm.tqdm_notebook(box.keys()):\n",
    "    print(box[star]['alias'])"
   ]
  },
  {
   "cell_type": "markdown",
   "metadata": {},
   "source": [
    "# Query Archive"
   ]
  },
  {
   "cell_type": "code",
   "execution_count": 6,
   "metadata": {},
   "outputs": [
    {
     "name": "stdout",
     "output_type": "stream",
     "text": [
      "Created TAP+ (v1.2.1) - Connection:\n",
      "\tHost: gea.esac.esa.int\n",
      "\tUse HTTPS: True\n",
      "\tPort: 443\n",
      "\tSSL Port: 443\n",
      "Created TAP+ (v1.2.1) - Connection:\n",
      "\tHost: geadata.esac.esa.int\n",
      "\tUse HTTPS: True\n",
      "\tPort: 443\n",
      "\tSSL Port: 443\n"
     ]
    },
    {
     "data": {
      "application/vnd.jupyter.widget-view+json": {
       "model_id": "19d100e7ab6c44ed8551d37dc53b7fdd",
       "version_major": 2,
       "version_minor": 0
      },
      "text/plain": [
       "HBox(children=(HTML(value=''), FloatProgress(value=0.0, max=4.0), HTML(value='')))"
      ]
     },
     "metadata": {},
     "output_type": "display_data"
    },
    {
     "name": "stdout",
     "output_type": "stream",
     "text": [
      "select * from gaiaedr3.gaia_source where source_id=6513109241989477504\n",
      "select * from gaiaedr3.gaia_source where source_id=5805243926609660032\n",
      "select * from gaiaedr3.gaia_source where source_id=1798008584396457088\n",
      "select * from gaiaedr3.gaia_source where source_id=2156908318076164224\n",
      "\n"
     ]
    }
   ],
   "source": [
    "from astroquery.gaia import Gaia\n",
    "\n",
    "for star in tqdm.notebook.tqdm(box.keys()):\n",
    "    print(f\"select * from {archive_key}.gaia_source where source_id={box[star]['gaia_id']}\")\n",
    "    job = Gaia.launch_job(f\"select * from {archive_key}.gaia_source where source_id={box[star]['gaia_id']}\")\n",
    "    result = job.get_results()\n",
    "    for gaia_key in gaia_keys:\n",
    "        box[star][gaia_key] = result[gaia_key][0]"
   ]
  },
  {
   "cell_type": "markdown",
   "metadata": {},
   "source": [
    "# Pre-processing"
   ]
  },
  {
   "cell_type": "markdown",
   "metadata": {},
   "source": [
    "### Apply the Gaia recommend parallax zeropoint"
   ]
  },
  {
   "cell_type": "code",
   "execution_count": 7,
   "metadata": {},
   "outputs": [
    {
     "name": "stderr",
     "output_type": "stream",
     "text": [
      "/Users/douglasboubert/anaconda3/envs/gaiaedr3/lib/python3.7/site-packages/zero_point/zpt.py:163: UserWarning: Warning: converting a masked element to nan.\n",
      "  pseudocolour = np.array([pseudocolour])\n"
     ]
    }
   ],
   "source": [
    "if gaia_mode == 'Gaia DR2':\n",
    "    for star in box.keys():\n",
    "        box[star]['parallax_zeropoint'] = -0.029\n",
    "        box[star]['parallax'] = box[star]['parallax'] - box[star]['parallax_zeropoint']\n",
    "elif gaia_mode == 'Gaia EDR3':\n",
    "    from zero_point import zpt\n",
    "    zpt.load_tables()\n",
    "\n",
    "    for star in box.keys():\n",
    "        box[star]['parallax_zeropoint'] = zpt.get_zpt(box[star]['phot_g_mean_mag'], box[star]['nu_eff_used_in_astrometry'], box[star]['pseudocolour'], box[star]['ecl_lat'], box[star]['astrometric_params_solved'])\n",
    "        box[star]['parallax'] = box[star]['parallax'] - box[star]['parallax_zeropoint'] "
   ]
  },
  {
   "cell_type": "markdown",
   "metadata": {},
   "source": [
    "### Use a prior for stars without radial velocity information"
   ]
  },
  {
   "cell_type": "code",
   "execution_count": 8,
   "metadata": {},
   "outputs": [],
   "source": [
    "for star in box.keys():\n",
    "    if box[star]['radial_velocity_error'] < 0.0:\n",
    "        box[star]['radial_velocity'] = radial_velocity_prior \n",
    "        box[star]['radial_velocity_error'] = radial_velocity_error_prior "
   ]
  },
  {
   "cell_type": "markdown",
   "metadata": {},
   "source": [
    "# Create objects for sampling   "
   ]
  },
  {
   "cell_type": "code",
   "execution_count": 9,
   "metadata": {},
   "outputs": [],
   "source": [
    "gaia_root_keys = ['ra','dec','parallax','pmra','pmdec']\n",
    "for star in box.keys():\n",
    "    box[star]['corr'] = np.ones((5,5))\n",
    "    for i,I in enumerate(gaia_root_keys):\n",
    "        for j,J in enumerate(gaia_root_keys):\n",
    "            if i < j:\n",
    "                box[star]['corr'][i,j] = box[star]['corr'][j,i] = box[star][I+'_'+J+'_corr']\n",
    "    \n",
    "    box[star]['mean'] = np.array([box[star][k] for k in gaia_root_keys])\n",
    "    box[star]['mean'][:2] = 0.0\n",
    "    box[star]['error'] = np.array([box[star][k+'_error'] for k in gaia_root_keys])\n",
    "    \n",
    "    box[star]['cov'] = np.array([[box[star]['corr'][i,j]*box[star]['error'][i]*box[star]['error'][j] for j in range(5)] for i in range(5)])"
   ]
  },
  {
   "cell_type": "markdown",
   "metadata": {},
   "source": [
    "# Sampling"
   ]
  },
  {
   "cell_type": "markdown",
   "metadata": {},
   "source": [
    "### Compile the Stan sampling (this will take two minutes the first time you run it!)"
   ]
  },
  {
   "cell_type": "code",
   "execution_count": 11,
   "metadata": {},
   "outputs": [
    {
     "name": "stdout",
     "output_type": "stream",
     "text": [
      "Using cached StanModel\n"
     ]
    }
   ],
   "source": [
    "import pystan\n",
    "\n",
    "stan_code = \"\"\"\n",
    "data {\n",
    "  vector[5] mu;\n",
    "  matrix[5,5] Sigma;\n",
    "  real lengthscale;\n",
    "}\n",
    "parameters {\n",
    "  real ra;\n",
    "  real dec;\n",
    "  real dist;\n",
    "  real pmra;\n",
    "  real pmdec;\n",
    "}\n",
    "model {\n",
    "  dist ~ gamma(3.0, 1.0/lengthscale);\n",
    "  ra ~ normal(0,10);\n",
    "  dec ~ normal(0,10);\n",
    "  pmra ~ normal(0,10);\n",
    "  pmdec ~ normal(0,10);\n",
    "  mu ~ multi_normal([ra, dec, 1.0/dist,pmra,pmdec]',Sigma);\n",
    "}\n",
    "\"\"\"\n",
    "sm = StanModel_cache(model_code=stan_code,model_name='bailer-jones')"
   ]
  },
  {
   "cell_type": "markdown",
   "metadata": {},
   "source": [
    "### Sample for each star"
   ]
  },
  {
   "cell_type": "code",
   "execution_count": 12,
   "metadata": {},
   "outputs": [
    {
     "data": {
      "application/vnd.jupyter.widget-view+json": {
       "model_id": "68c8ec35eb7048d6a97778fb39e2c5af",
       "version_major": 2,
       "version_minor": 0
      },
      "text/plain": [
       "HBox(children=(HTML(value=''), FloatProgress(value=0.0, max=4.0), HTML(value='')))"
      ]
     },
     "metadata": {},
     "output_type": "display_data"
    },
    {
     "name": "stderr",
     "output_type": "stream",
     "text": [
      "WARNING:pystan:4 of 40000 iterations ended with a divergence (0.01 %).\n",
      "WARNING:pystan:Try running with adapt_delta larger than 0.8 to remove the divergences.\n",
      "WARNING:pystan:9 of 40000 iterations ended with a divergence (0.0225 %).\n",
      "WARNING:pystan:Try running with adapt_delta larger than 0.8 to remove the divergences.\n"
     ]
    },
    {
     "name": "stdout",
     "output_type": "stream",
     "text": [
      "\n"
     ]
    }
   ],
   "source": [
    "for star in tqdm.notebook.tqdm(box.keys()):\n",
    "    stan_data = {'mu':box[star]['mean'],'Sigma':box[star]['cov'],'lengthscale':prior_lengthscale}\n",
    "    fit = sm.sampling(data=stan_data, iter=20000, chains=4)\n",
    "    \n",
    "    stan_result = fit.extract()\n",
    "    box[star]['samples'] = {'ra':stan_result['ra'],'dec':stan_result['dec'],'distance':stan_result['dist'],'pmra':stan_result['pmra'],'pmdec':stan_result['pmdec']}\n",
    "    box[star]['samples']['ra'] += box[star]['ra']\n",
    "    box[star]['samples']['dec'] += box[star]['dec']\n",
    "    box[star]['samples']['radial_velocity'] = np.random.normal(box[star]['radial_velocity'],box[star]['radial_velocity_error'],box[star]['samples']['ra'].size)"
   ]
  },
  {
   "cell_type": "markdown",
   "metadata": {},
   "source": [
    "# Orbit integration"
   ]
  },
  {
   "cell_type": "code",
   "execution_count": 14,
   "metadata": {},
   "outputs": [],
   "source": [
    "# Third-party\n",
    "import astropy.coordinates as coord\n",
    "from astropy.io import ascii\n",
    "\n",
    "# Gala\n",
    "import gala.dynamics as gd\n",
    "import gala.integrate as gi\n",
    "import gala.potential as gp\n",
    "from gala.units import galactic\n",
    "\n",
    "coord.galactocentric_frame_defaults.set('v4.0')\n",
    "potential = gp.MilkyWayPotential()\n",
    "gc_frame = coord.Galactocentric()"
   ]
  },
  {
   "cell_type": "code",
   "execution_count": 15,
   "metadata": {},
   "outputs": [
    {
     "data": {
      "application/vnd.jupyter.widget-view+json": {
       "model_id": "ff6885668dd1417296003951007d41b1",
       "version_major": 2,
       "version_minor": 0
      },
      "text/plain": [
       "HBox(children=(HTML(value=''), FloatProgress(value=0.0, max=4.0), HTML(value='')))"
      ]
     },
     "metadata": {},
     "output_type": "display_data"
    },
    {
     "name": "stdout",
     "output_type": "stream",
     "text": [
      "\n"
     ]
    }
   ],
   "source": [
    "for star in tqdm.notebook.tqdm(box.keys()):\n",
    "    icrs_samples = coord.SkyCoord(ra=box[star]['samples']['ra']*u.deg,\n",
    "                                  dec=box[star]['samples']['dec']*u.deg,\n",
    "                                  distance=box[star]['samples']['distance']*u.kpc,\n",
    "                                  pm_ra_cosdec=box[star]['samples']['pmra']*u.mas/u.yr,\n",
    "                                  pm_dec=box[star]['samples']['pmdec']*u.mas/u.yr,\n",
    "                                  radial_velocity=box[star]['samples']['radial_velocity']*u.km/u.s)\n",
    "    \n",
    "    galcen_samples = icrs_samples.transform_to(gc_frame)\n",
    "    box[star]['samples']['total_velocity'] = np.sqrt(galcen_samples.v_x.value**2.0+galcen_samples.v_y.value**2.0+galcen_samples.v_z.value**2.0)\n",
    "    w0_samples = gd.PhaseSpacePosition(galcen_samples.data)\n",
    "    samples = np.random.choice(np.arange(box[star]['samples']['ra'].size),n_orbits)\n",
    "\n",
    "    orbit_backward_samples = potential.integrate_orbit(w0_samples[samples], dt=-0.1*u.Myr, n_steps=10000)\n",
    "    box[star]['samples']['orbit_backward_x'] = orbit_backward_samples.x.value\n",
    "    box[star]['samples']['orbit_backward_y'] = orbit_backward_samples.y.value\n",
    "    box[star]['samples']['orbit_backward_z'] = orbit_backward_samples.z.value\n",
    "\n",
    "    orbit_forward_samples = potential.integrate_orbit(w0_samples[samples], dt=+0.1*u.Myr, n_steps=10000)\n",
    "    box[star]['samples']['orbit_forward_x'] = orbit_forward_samples.x.value#[1:]\n",
    "    box[star]['samples']['orbit_forward_y'] = orbit_forward_samples.y.value#[1:]\n",
    "    box[star]['samples']['orbit_forward_z'] = orbit_forward_samples.z.value#[1:]"
   ]
  },
  {
   "cell_type": "markdown",
   "metadata": {},
   "source": [
    "### Posterior total velocity"
   ]
  },
  {
   "cell_type": "code",
   "execution_count": 16,
   "metadata": {},
   "outputs": [
    {
     "name": "stdout",
     "output_type": "stream",
     "text": [
      "S5-HVS1 1490.7522570858396 296.7259536573829\n",
      "D6-1 1811.942319031251 208.417798015073\n",
      "D6-2 1068.5789461761858 55.44459176268583\n",
      "D6-3 2011.4801045696322 663.9851432732703\n"
     ]
    }
   ],
   "source": [
    "for star in box.keys():\n",
    "    perc = np.percentile(box[star]['samples']['total_velocity'],[16,50,84])\n",
    "    print(box[star]['alias'],perc[0],0.5*(perc[2]-perc[0]))"
   ]
  },
  {
   "cell_type": "markdown",
   "metadata": {},
   "source": [
    "# Orbit Plot"
   ]
  },
  {
   "cell_type": "code",
   "execution_count": null,
   "metadata": {},
   "outputs": [
    {
     "data": {
      "application/vnd.jupyter.widget-view+json": {
       "model_id": "c32615130fd34cc5bac2b84f88981b73",
       "version_major": 2,
       "version_minor": 0
      },
      "text/plain": [
       "HBox(children=(HTML(value=''), FloatProgress(value=0.0, max=4.0), HTML(value='')))"
      ]
     },
     "metadata": {},
     "output_type": "display_data"
    }
   ],
   "source": [
    "label_fontsize = 12\n",
    "marker_size = 80\n",
    "line_alpha = 0.05\n",
    "fig,axes = plt.subplots(1,2,figsize=(9,5))\n",
    "\n",
    "stars_to_plot = [6513109241989477504,5805243926609660032,1798008584396457088,2156908318076164224]\n",
    "\n",
    "for star in tqdm.notebook.tqdm(stars_to_plot):\n",
    "    axes[0].plot(box[star]['samples']['orbit_backward_x'],box[star]['samples']['orbit_backward_y'],color=plt.cm.RdBu(0.8),alpha=line_alpha, solid_capstyle='butt');\n",
    "    axes[0].plot(box[star]['samples']['orbit_forward_x'],box[star]['samples']['orbit_forward_y'],color=plt.cm.RdBu(0.2),alpha=line_alpha, solid_capstyle='butt');\n",
    "    axes[0].set_xlim([-25,+25])\n",
    "    axes[0].set_ylim([-25,+25])\n",
    "    axes[0].set_aspect('equal')\n",
    "    axes[0].set_xlabel(r'$x\\;(\\mathrm{kpc})$',fontsize=label_fontsize)\n",
    "    axes[0].set_ylabel(r'$y\\;(\\mathrm{kpc})$',fontsize=label_fontsize,labelpad=-5)\n",
    "    axes[0].scatter(-gc_frame.galcen_distance.value,0,marker='*',facecolor='gold',edgecolor='black', linewidth=0.4,zorder=10,s=marker_size)\n",
    "    axes[0].scatter(0,0,marker='+',facecolor='black',edgecolor='black', linewidth=1.5,zorder=10,s=marker_size)\n",
    "    disk_top = Ellipse(xy=(0, 0), width=30.0, height=30.0, edgecolor='grey', fc='None', lw=2,ls='--',zorder=10)\n",
    "    axes[0].add_patch(disk_top)\n",
    "\n",
    "    axes[1].plot(box[star]['samples']['orbit_backward_x'],box[star]['samples']['orbit_backward_z'],color=plt.cm.RdBu(0.8),alpha=line_alpha, solid_capstyle='butt');\n",
    "    axes[1].plot(box[star]['samples']['orbit_forward_x'],box[star]['samples']['orbit_forward_z'],color=plt.cm.RdBu(0.2),alpha=line_alpha, solid_capstyle='butt');\n",
    "    axes[1].set_xlim([-25,+25])\n",
    "    axes[1].set_ylim([-25,+25])\n",
    "    axes[1].set_aspect('equal')\n",
    "    axes[1].set_xlabel(r'$x\\;(\\mathrm{kpc})$',fontsize=label_fontsize)\n",
    "    axes[1].set_ylabel(r'$z\\;(\\mathrm{kpc})$',fontsize=label_fontsize,labelpad=-5)\n",
    "    axes[1].scatter(-gc_frame.galcen_distance.value,0,marker='*',facecolor='gold',edgecolor='black', linewidth=0.4,zorder=10,s=marker_size)\n",
    "    axes[1].scatter(0,0,marker='+',facecolor='black',edgecolor='black', linewidth=1.5,zorder=10,s=marker_size)\n",
    "    disk_side = Ellipse(xy=(0, 0), width=30.0, height=3.0, edgecolor='grey', fc='None', lw=2,ls='--',zorder=10)\n",
    "    axes[1].add_patch(disk_side)\n",
    "\n",
    "    \n",
    "    custom_lines = [Line2D([0], [0], color=plt.cm.RdBu(0.8), lw=4),\n",
    "                    Line2D([0], [0], color=plt.cm.RdBu(0.2), lw=4)]\n",
    "\n",
    "    axes[1].legend(custom_lines, [box[star]['alias']+' past', box[star]['alias']+' future'],loc='lower right',frameon=False,fontsize=label_fontsize)\n",
    "    plt.savefig('./results/'+box[star]['alias']+'_orbit.png',dpi=300,bbox_inches='tight',facecolor='white')\n",
    "    plt.savefig('./results/'+box[star]['alias']+'_orbit.pdf',dpi=300,bbox_inches='tight')\n",
    "    \n",
    "    axes[0].clear()\n",
    "    axes[1].clear()"
   ]
  },
  {
   "cell_type": "markdown",
   "metadata": {},
   "source": [
    "# Velocity plot"
   ]
  },
  {
   "cell_type": "code",
   "execution_count": null,
   "metadata": {},
   "outputs": [],
   "source": [
    "label_fontsize = 12\n",
    "\n",
    "plt.figure(figsize=(6,4))\n",
    "stars_to_plot = [6513109241989477504,5805243926609660032,1798008584396457088,2156908318076164224]\n",
    "color_to_plot = [plt.cm.RdBu(0.8),plt.cm.RdBu(0.2),plt.cm.PiYG(0.8),plt.cm.PiYG(0.2)]\n",
    "custom_lines = [Line2D([0], [0], color=color, lw=4) for color in color_to_plot]\n",
    "custom_label = [box[star]['alias'] for star in stars_to_plot]\n",
    "\n",
    "\n",
    "for star in zip(tqdm.notebook.tqdm(stars_to_plot),color_to_plot):\n",
    "    x = np.linspace(0,5000,1000)\n",
    "    y = stats.gaussian_kde(box[star]['samples']['total_velocity'],bw_method=0.2)(x)\n",
    "    plt.plot(x,y,color=color,label=box[star]['alias'],lw=2)\n",
    "plt.xlim([0,5000])\n",
    "plt.ylim([0,0.0075])\n",
    "plt.legend(custom_lines,custom_label,loc='upper right',frameon=False,fontsize=label_fontsize)\n",
    "plt.xlabel('Total Galactocentric Velocity ($\\mathrm{km}\\;\\mathrm{s}^{-1}$)',fontsize=label_fontsize )\n",
    "plt.ylabel('Posterior Probability Density ($1/\\mathrm{km}\\;\\mathrm{s}^{-1}$)',fontsize=label_fontsize)\n",
    "\n",
    "plt.savefig('./results/posterior_velocity.png',dpi=300,bbox_inches='tight')\n",
    "plt.savefig('./results/posterior_velocity.pdf',dpi=300,bbox_inches='tight')"
   ]
  },
  {
   "cell_type": "code",
   "execution_count": null,
   "metadata": {},
   "outputs": [],
   "source": []
  },
  {
   "cell_type": "code",
   "execution_count": null,
   "metadata": {},
   "outputs": [],
   "source": []
  }
 ],
 "metadata": {
  "kernelspec": {
   "display_name": "Python [conda env:gaiaedr3]",
   "language": "python",
   "name": "conda-env-gaiaedr3-py"
  },
  "language_info": {
   "codemirror_mode": {
    "name": "ipython",
    "version": 3
   },
   "file_extension": ".py",
   "mimetype": "text/x-python",
   "name": "python",
   "nbconvert_exporter": "python",
   "pygments_lexer": "ipython3",
   "version": "3.7.8"
  }
 },
 "nbformat": 4,
 "nbformat_minor": 4
}
